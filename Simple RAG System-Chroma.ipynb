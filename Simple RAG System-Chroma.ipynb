{
 "cells": [
  {
   "cell_type": "code",
   "execution_count": 1,
   "id": "68e38f45-6ab2-41db-9bae-8c316796cdd3",
   "metadata": {},
   "outputs": [
    {
     "name": "stdout",
     "output_type": "stream",
     "text": [
      "Hello World!\n"
     ]
    }
   ],
   "source": [
    "print(\"Hello World!\")"
   ]
  },
  {
   "cell_type": "code",
   "execution_count": 2,
   "id": "1fb9f54c-ca79-469f-a43e-f13efa44722e",
   "metadata": {},
   "outputs": [
    {
     "name": "stdout",
     "output_type": "stream",
     "text": [
      "API Key Loaded Successfully\n"
     ]
    }
   ],
   "source": [
    "import os\n",
    "from dotenv import load_dotenv\n",
    "\n",
    "# Load environment variables from .env file\n",
    "load_dotenv()\n",
    "\n",
    "# Get the API key\n",
    "api_key = os.getenv(\"OPENAI_API_KEY\")\n",
    "\n",
    "# Set it as an environment variable (if needed)\n",
    "os.environ[\"OPENAI_API_KEY\"] = api_key\n",
    "\n",
    "print(\"API Key Loaded Successfully\" if api_key else \"API Key Not Found\")\n"
   ]
  },
  {
   "cell_type": "code",
   "execution_count": 3,
   "id": "7d934145-6c52-4725-8b01-a8c0e8905ad6",
   "metadata": {},
   "outputs": [
    {
     "name": "stdout",
     "output_type": "stream",
     "text": [
      "Pdf_data:  Saimahith Chigurupati \n",
      "Boston, MA | 857-693-9706 | mahithchigurupati@gmail.com | LinkedIn | GitHub \n",
      "Software Engineer with 5+ Years of Expertise in Designing Scalable Systems and Delivering Innovative Solutions  \n",
      "SKILLS \n",
      "Programming Languages  \n",
      "Python, Java, C, JavaScript \n",
      "Web Technologies \n",
      " \n",
      "Spring Boot, FastAPI, Node.js, React.js, Next.js, Tailwind, REST API, GraphQL, Django REST \n",
      "DevOps and Cloud \n",
      " \n",
      "AWS, GCP, Linux, Git, Docker, Kubernetes, Jenkins, CI/CD, Terraform, Packer, Apache Kafka \n",
      "Dat\n"
     ]
    }
   ],
   "source": [
    "import fitz\n",
    "import glob\n",
    "\n",
    "def load_all_pdfs_in_directory(directory=\"./content/\"):\n",
    "  combined_text = \"\"\n",
    "  pdf_paths = glob.glob(f\"{directory}/*.pdf\")\n",
    "\n",
    "  for file_path in pdf_paths:\n",
    "    with fitz.open(file_path) as pdf:\n",
    "      for page in pdf:\n",
    "        combined_text += page.get_text()\n",
    "\n",
    "  return combined_text\n",
    "\n",
    "pdf_data = load_all_pdfs_in_directory()\n",
    "print(\"Pdf_data: \", pdf_data[:500])"
   ]
  },
  {
   "cell_type": "code",
   "execution_count": 4,
   "id": "4d20ec44-aa0f-427c-8628-4ce6dc1e58e4",
   "metadata": {},
   "outputs": [
    {
     "data": {
      "text/plain": [
       "5577"
      ]
     },
     "execution_count": 4,
     "metadata": {},
     "output_type": "execute_result"
    }
   ],
   "source": [
    "len(pdf_data)"
   ]
  },
  {
   "cell_type": "code",
   "execution_count": 5,
   "id": "3a0fbd33-9d64-4076-b5d5-ebbee28ce9e9",
   "metadata": {},
   "outputs": [
    {
     "name": "stdout",
     "output_type": "stream",
     "text": [
      "Number of documents:  7\n"
     ]
    }
   ],
   "source": [
    "from langchain.text_splitter import RecursiveCharacterTextSplitter\n",
    "\n",
    "text_splitter = RecursiveCharacterTextSplitter(\n",
    "    chunk_size=1000,\n",
    "    chunk_overlap=200\n",
    ")\n",
    "\n",
    "documents = text_splitter.split_text(pdf_data)\n",
    "print(\"Number of documents: \", len(documents))\n"
   ]
  },
  {
   "cell_type": "code",
   "execution_count": 6,
   "id": "1fefec4b-53e4-40c0-94b9-c5aaec6ae387",
   "metadata": {},
   "outputs": [
    {
     "data": {
      "text/plain": [
       "'Saimahith Chigurupati \\nBoston, MA | 857-693-9706 | mahithchigurupati@gmail.com | LinkedIn | GitHub \\nSoftware Engineer with 5+ Years of Expertise in Designing Scalable Systems and Delivering Innovative Solutions  \\nSKILLS \\nProgramming Languages  \\nPython, Java, C, JavaScript \\nWeb Technologies \\n \\nSpring Boot, FastAPI, Node.js, React.js, Next.js, Tailwind, REST API, GraphQL, Django REST \\nDevOps and Cloud \\n \\nAWS, GCP, Linux, Git, Docker, Kubernetes, Jenkins, CI/CD, Terraform, Packer, Apache Kafka \\nDatabases & Tools \\n \\nMySQL, PostgreSQL, NoSQL, MongoDB, Redis, Azure SQL, Hibernate, RabbitMQ, SwiftUI \\nCertifications \\n \\n                AWS Certified Solutions Architect, Pega Certified Senior System Architect \\n \\nWORK EXPERIENCE \\nSoftware Engineer, Walmart                                                                                                                                                          Oct 2024 – present \\n•'"
      ]
     },
     "execution_count": 6,
     "metadata": {},
     "output_type": "execute_result"
    }
   ],
   "source": [
    "documents[0]"
   ]
  },
  {
   "cell_type": "code",
   "execution_count": 7,
   "id": "8e0a676a-8a71-4e9b-b892-3369097f4ec7",
   "metadata": {},
   "outputs": [
    {
     "data": {
      "text/plain": [
       "'• \\nCollaborating with the SRE team to develop automation tools, improving uptime for cloud services powering Walmart \\napplications using Java, Spring Boot, Azure SQL, Python, and FastAPI. \\n• \\nContributing to Business Continuity and Disaster Recovery (BCDR) initiatives, enhancing the reliability of Walmart’s applications \\nduring high-traffic events like thanksgiving sales, directly impacting major revenue generation. \\n• \\nDesigning and developing backend applications to enhance security and compliance of applications across the organization, \\nensuring alignment with security best practices and regulatory standards. \\n \\nSoftware Engineer, Keelworks                                                                                                                                                       Jul 2024 – Oct 2024 \\n• \\nContributed to the development of a digital knowledge hub, building a centralized platform for community-driven education, \\ncareer advancement, and knowledge sharing. \\n•'"
      ]
     },
     "execution_count": 7,
     "metadata": {},
     "output_type": "execute_result"
    }
   ],
   "source": [
    "documents[1]"
   ]
  },
  {
   "cell_type": "code",
   "execution_count": 8,
   "id": "6b729735-3f1d-4a15-ae28-e09ac36f1557",
   "metadata": {},
   "outputs": [],
   "source": [
    "from langchain_openai import OpenAIEmbeddings\n",
    "\n",
    "embeddings = OpenAIEmbeddings(model=\"text-embedding-ada-002\")\n",
    "\n",
    "embedded_documents = embeddings.embed_documents(documents)"
   ]
  },
  {
   "cell_type": "code",
   "execution_count": 9,
   "id": "e7f4fcfd-7dc7-45b1-a8b8-fdc0c4d86b9f",
   "metadata": {
    "scrolled": true
   },
   "outputs": [
    {
     "name": "stdout",
     "output_type": "stream",
     "text": [
      "Embedding for the first document\n",
      "Component 1: -0.005875465925782919\n",
      "Component 2: -0.013189268298447132\n",
      "Component 3: 0.006564103066921234\n",
      "Component 4: -0.017599260434508324\n",
      "Component 5: -0.007239171303808689\n",
      "Component 6: 0.02708413451910019\n"
     ]
    }
   ],
   "source": [
    "print(\"Embedding for the first document\")\n",
    "for i, value in enumerate(embedded_documents[0]):\n",
    "  print(f\"Component {i+1}: {value}\")\n",
    "  if i >= 5:\n",
    "    break"
   ]
  },
  {
   "cell_type": "code",
   "execution_count": 10,
   "id": "9bc351b0-cf64-4ace-a2b1-338cf05939de",
   "metadata": {},
   "outputs": [
    {
     "name": "stdout",
     "output_type": "stream",
     "text": [
      "Vectorstore created and stored successfully\n"
     ]
    }
   ],
   "source": [
    "from langchain_chroma import Chroma\n",
    "import chromadb\n",
    "\n",
    "client = chromadb.Client()\n",
    "\n",
    "chroma_db_directory = \"./chroma_index\"\n",
    "\n",
    "vectorstore = Chroma.from_texts(texts=documents, embedding=embeddings, client=client, persist_directory=chroma_db_directory)\n",
    "\n",
    "print(\"Vectorstore created and stored successfully\")"
   ]
  },
  {
   "cell_type": "code",
   "execution_count": 11,
   "id": "2dd34ab6-53ca-4235-a2ff-a564d1e8365e",
   "metadata": {},
   "outputs": [
    {
     "name": "stdout",
     "output_type": "stream",
     "text": [
      "Number of documents indexed: 7\n"
     ]
    }
   ],
   "source": [
    "print(f\"Number of documents indexed: {len(documents)}\")"
   ]
  },
  {
   "cell_type": "code",
   "execution_count": 12,
   "id": "2d9ff269-aff9-4afd-aaef-34c8bc054cb1",
   "metadata": {},
   "outputs": [],
   "source": [
    "retriever = vectorstore.as_retriever(search_type=\"similarity\", search_kwargs={\"k\": 6})"
   ]
  },
  {
   "cell_type": "code",
   "execution_count": 13,
   "id": "f289554b-22dd-4ffc-8e8b-baf9ff825d13",
   "metadata": {},
   "outputs": [],
   "source": [
    "def pretty_print(docs):\n",
    "  print(\n",
    "      f\"\\n{'-' * 100}\\n\".join(\n",
    "          [f\"Document {i+1}:\\n\\n\"+ d.page_content for i,d in enumerate(docs)]\n",
    "      )\n",
    "  )"
   ]
  },
  {
   "cell_type": "code",
   "execution_count": 14,
   "id": "fabccb8e-94d4-4863-a442-bdb9a7b6611a",
   "metadata": {},
   "outputs": [
    {
     "name": "stdout",
     "output_type": "stream",
     "text": [
      "Document 1:\n",
      "\n",
      "• \n",
      "Revamped the architecture of an Equity and Debt investment processing application for World Bank Group, improving case \n",
      "processing lifecycle and disbursement time by 30% through advanced system design. \n",
      "• \n",
      "Designed and implemented REST APIs for Java and .NET applications, integrating core business logic and configuring SLAs and \n",
      "routings to optimize workflow efficiency. \n",
      "• \n",
      "Utilized Splunk and Tracer for troubleshooting and resolving production issues, ensuring zero downtime and delivering timely \n",
      "fixes with minimal impact on end-users. \n",
      "• \n",
      "Provided L2 support for Pegasystems, diagnosing and resolving infrastructure and product-level issues to maintain system \n",
      "integrity and enhance user experience. \n",
      "• \n",
      "Collaborated with cross-functional teams using JIRA in an Agile environment, contributing to SDLC phases and applying best \n",
      "design patterns to ensure timely and high-quality feature delivery. \n",
      " \n",
      "EDUCATION\n",
      "----------------------------------------------------------------------------------------------------\n",
      "Document 2:\n",
      "\n",
      "• \n",
      "Architected and engineered downstream RESTful APIs with Java Spring Boot, enabling seamless integration between insurance \n",
      "plans, field agents, and the Pega system, while integrating Kafka for real-time data streaming. \n",
      "• \n",
      "Developed a custom Java security event logging solution using Log4J, safeguarding customer PHI/PII and reducing data breach \n",
      "risks by 85%, ensuring compliance with industry security standards. \n",
      "• \n",
      "Led the application upgrade project during COVID-19, optimizing case management processes and integrating Adobe Sign and \n",
      "SMS APIs, boosting operational resilience and ensuring uninterrupted business continuity. \n",
      " \n",
      "Programmer Analyst, Cognizant                                                                                                                                                  Jun 2019 - Jul 2021 \n",
      "• \n",
      "Revamped the architecture of an Equity and Debt investment processing application for World Bank Group, improving case\n",
      "----------------------------------------------------------------------------------------------------\n",
      "Document 3:\n",
      "\n",
      "design patterns to ensure timely and high-quality feature delivery. \n",
      " \n",
      "EDUCATION \n",
      "MS in Information Systems, Northeastern University                                                                                                                         GPA: 3.8/4.0 \n",
      " \n",
      "Achievements: Winner at Harvard Blockchain Conference (HBC ’23), ETH Boston ‘23, Columbia Blockchain Hackathon (LionHack ‘23) \n",
      "Coursework: Application Engineering and Development, Data Structures and Algorithms, Network Structures and Cloud Computing, \n",
      "Web Design and UX Engineering, iOS Mobile App Development, Engineering of Advanced Cryptocurrency Systems\n",
      "----------------------------------------------------------------------------------------------------\n",
      "Document 4:\n",
      "\n",
      "Saimahith Chigurupati \n",
      "Boston, MA | 857-693-9706 | mahithchigurupati@gmail.com | LinkedIn | GitHub \n",
      "Software Engineer with 5+ Years of Expertise in Designing Scalable Systems and Delivering Innovative Solutions  \n",
      "SKILLS \n",
      "Programming Languages  \n",
      "Python, Java, C, JavaScript \n",
      "Web Technologies \n",
      " \n",
      "Spring Boot, FastAPI, Node.js, React.js, Next.js, Tailwind, REST API, GraphQL, Django REST \n",
      "DevOps and Cloud \n",
      " \n",
      "AWS, GCP, Linux, Git, Docker, Kubernetes, Jenkins, CI/CD, Terraform, Packer, Apache Kafka \n",
      "Databases & Tools \n",
      " \n",
      "MySQL, PostgreSQL, NoSQL, MongoDB, Redis, Azure SQL, Hibernate, RabbitMQ, SwiftUI \n",
      "Certifications \n",
      " \n",
      "                AWS Certified Solutions Architect, Pega Certified Senior System Architect \n",
      " \n",
      "WORK EXPERIENCE \n",
      "Software Engineer, Walmart                                                                                                                                                          Oct 2024 – present \n",
      "•\n",
      "----------------------------------------------------------------------------------------------------\n",
      "Document 5:\n",
      "\n",
      "• \n",
      "Contributed to the Grafbase API Gateway by integrating BitQuery GraphQL API, CoinAPI, and CryptoAPI REST API, adhering to \n",
      "OpenAPI specifications to ensure seamless data flow. \n",
      "• \n",
      "Developed a Next.js-based Bitcoin explorer application, applying Test-Driven Development (TDD) using Playwright, and \n",
      "implemented CI/CD pipelines via Git Workflows to automate and streamline the development lifecycle. \n",
      " \n",
      "Software Engineer, Optum                                                                                                                                                        Aug 2021 – Aug 2022 \n",
      "• \n",
      "Designed and developed a health insurance enrollment application for web and mobile platforms, utilizing Java J2EE, JavaScript, \n",
      "Pega PRPC, and PostgreSQL, driving significant revenue growth for UnitedHealth Group. \n",
      "• \n",
      "Architected and engineered downstream RESTful APIs with Java Spring Boot, enabling seamless integration between insurance\n",
      "----------------------------------------------------------------------------------------------------\n",
      "Document 6:\n",
      "\n",
      "• \n",
      "Contributed to the development of a digital knowledge hub, building a centralized platform for community-driven education, \n",
      "career advancement, and knowledge sharing. \n",
      "• \n",
      "Developed backend REST APIs using Node.js, integrating Redis for session management and MySQL for data persistence with \n",
      "Sequelize ORM to ensure scalable and efficient data handling. \n",
      " \n",
      "Lead Software Engineer, Northeastern University                                                                                                                 May 2023 – May 2024 \n",
      "• \n",
      "Led and managed a team of 50+ developers in building the Open-source NU Bitcoin Blockchain Explorer, driving the project's \n",
      "overall development and success. \n",
      "• \n",
      "Contributed to the Grafbase API Gateway by integrating BitQuery GraphQL API, CoinAPI, and CryptoAPI REST API, adhering to \n",
      "OpenAPI specifications to ensure seamless data flow. \n",
      "•\n",
      "Document 1:\n",
      "\n",
      "• \n",
      "Revamped the architecture of an Equity and Debt investment processing application for World Bank Group, improving case \n",
      "processing lifecycle and disbursement time by 30% through advanced system design. \n",
      "• \n",
      "Designed and implemented REST APIs for Java and .NET applications, integrating core business logic and configuring SLAs and \n",
      "routings to optimize workflow efficiency. \n",
      "• \n",
      "Utilized Splunk and Tracer for troubleshooting and resolving production issues, ensuring zero downtime and delivering timely \n",
      "fixes with minimal impact on end-users. \n",
      "• \n",
      "Provided L2 support for Pegasystems, diagnosing and resolving infrastructure and product-level issues to maintain system \n",
      "integrity and enhance user experience. \n",
      "• \n",
      "Collaborated with cross-functional teams using JIRA in an Agile environment, contributing to SDLC phases and applying best \n",
      "design patterns to ensure timely and high-quality feature delivery. \n",
      " \n",
      "EDUCATION\n",
      "----------------------------------------------------------------------------------------------------\n",
      "Document 2:\n",
      "\n",
      "• \n",
      "Contributed to the development of a digital knowledge hub, building a centralized platform for community-driven education, \n",
      "career advancement, and knowledge sharing. \n",
      "• \n",
      "Developed backend REST APIs using Node.js, integrating Redis for session management and MySQL for data persistence with \n",
      "Sequelize ORM to ensure scalable and efficient data handling. \n",
      " \n",
      "Lead Software Engineer, Northeastern University                                                                                                                 May 2023 – May 2024 \n",
      "• \n",
      "Led and managed a team of 50+ developers in building the Open-source NU Bitcoin Blockchain Explorer, driving the project's \n",
      "overall development and success. \n",
      "• \n",
      "Contributed to the Grafbase API Gateway by integrating BitQuery GraphQL API, CoinAPI, and CryptoAPI REST API, adhering to \n",
      "OpenAPI specifications to ensure seamless data flow. \n",
      "•\n",
      "----------------------------------------------------------------------------------------------------\n",
      "Document 3:\n",
      "\n",
      "design patterns to ensure timely and high-quality feature delivery. \n",
      " \n",
      "EDUCATION \n",
      "MS in Information Systems, Northeastern University                                                                                                                         GPA: 3.8/4.0 \n",
      " \n",
      "Achievements: Winner at Harvard Blockchain Conference (HBC ’23), ETH Boston ‘23, Columbia Blockchain Hackathon (LionHack ‘23) \n",
      "Coursework: Application Engineering and Development, Data Structures and Algorithms, Network Structures and Cloud Computing, \n",
      "Web Design and UX Engineering, iOS Mobile App Development, Engineering of Advanced Cryptocurrency Systems\n",
      "----------------------------------------------------------------------------------------------------\n",
      "Document 4:\n",
      "\n",
      "• \n",
      "Contributed to the Grafbase API Gateway by integrating BitQuery GraphQL API, CoinAPI, and CryptoAPI REST API, adhering to \n",
      "OpenAPI specifications to ensure seamless data flow. \n",
      "• \n",
      "Developed a Next.js-based Bitcoin explorer application, applying Test-Driven Development (TDD) using Playwright, and \n",
      "implemented CI/CD pipelines via Git Workflows to automate and streamline the development lifecycle. \n",
      " \n",
      "Software Engineer, Optum                                                                                                                                                        Aug 2021 – Aug 2022 \n",
      "• \n",
      "Designed and developed a health insurance enrollment application for web and mobile platforms, utilizing Java J2EE, JavaScript, \n",
      "Pega PRPC, and PostgreSQL, driving significant revenue growth for UnitedHealth Group. \n",
      "• \n",
      "Architected and engineered downstream RESTful APIs with Java Spring Boot, enabling seamless integration between insurance\n",
      "----------------------------------------------------------------------------------------------------\n",
      "Document 5:\n",
      "\n",
      "• \n",
      "Architected and engineered downstream RESTful APIs with Java Spring Boot, enabling seamless integration between insurance \n",
      "plans, field agents, and the Pega system, while integrating Kafka for real-time data streaming. \n",
      "• \n",
      "Developed a custom Java security event logging solution using Log4J, safeguarding customer PHI/PII and reducing data breach \n",
      "risks by 85%, ensuring compliance with industry security standards. \n",
      "• \n",
      "Led the application upgrade project during COVID-19, optimizing case management processes and integrating Adobe Sign and \n",
      "SMS APIs, boosting operational resilience and ensuring uninterrupted business continuity. \n",
      " \n",
      "Programmer Analyst, Cognizant                                                                                                                                                  Jun 2019 - Jul 2021 \n",
      "• \n",
      "Revamped the architecture of an Equity and Debt investment processing application for World Bank Group, improving case\n",
      "----------------------------------------------------------------------------------------------------\n",
      "Document 6:\n",
      "\n",
      "Saimahith Chigurupati \n",
      "Boston, MA | 857-693-9706 | mahithchigurupati@gmail.com | LinkedIn | GitHub \n",
      "Software Engineer with 5+ Years of Expertise in Designing Scalable Systems and Delivering Innovative Solutions  \n",
      "SKILLS \n",
      "Programming Languages  \n",
      "Python, Java, C, JavaScript \n",
      "Web Technologies \n",
      " \n",
      "Spring Boot, FastAPI, Node.js, React.js, Next.js, Tailwind, REST API, GraphQL, Django REST \n",
      "DevOps and Cloud \n",
      " \n",
      "AWS, GCP, Linux, Git, Docker, Kubernetes, Jenkins, CI/CD, Terraform, Packer, Apache Kafka \n",
      "Databases & Tools \n",
      " \n",
      "MySQL, PostgreSQL, NoSQL, MongoDB, Redis, Azure SQL, Hibernate, RabbitMQ, SwiftUI \n",
      "Certifications \n",
      " \n",
      "                AWS Certified Solutions Architect, Pega Certified Senior System Architect \n",
      " \n",
      "WORK EXPERIENCE \n",
      "Software Engineer, Walmart                                                                                                                                                          Oct 2024 – present \n",
      "•\n"
     ]
    }
   ],
   "source": [
    "query_1 = \"who does the document discuss about?\"\n",
    "docs = retriever.invoke(query_1)\n",
    "pretty_print(docs)\n",
    "\n",
    "query_2 = \"what are his achievements?\"\n",
    "docs = retriever.invoke(query_2)\n",
    "pretty_print(docs)"
   ]
  },
  {
   "cell_type": "code",
   "execution_count": 15,
   "id": "47b4dd7c-f234-47c4-b549-7e1ab7410725",
   "metadata": {},
   "outputs": [
    {
     "name": "stdout",
     "output_type": "stream",
     "text": [
      "Results for query 1:\n",
      "Document 1:\n",
      "\n",
      "Saimahith Chigurupati \n",
      "Boston, MA | 857-693-9706 | mahithchigurupati@gmail.com | LinkedIn | GitHub \n",
      "Software Engineer with 5+ Years of Expertise in Designing Scalable Systems and Delivering Innovative Solutions  \n",
      "SKILLS \n",
      "Programming Languages  \n",
      "Python, Java, C, JavaScript \n",
      "Web Technologies \n",
      " \n",
      "Spring Boot, FastAPI, Node.js, React.js, Next.js, Tailwind, REST API, GraphQL, Django REST \n",
      "DevOps and Cloud \n",
      " \n",
      "AWS, GCP, Linux, Git, Docker, Kubernetes, Jenkins, CI/CD, Terraform, Packer, Apache Kafka \n",
      "Databases & Tools \n",
      " \n",
      "MySQL, PostgreSQL, NoSQL, MongoDB, Redis, Azure SQL, Hibernate, RabbitMQ, SwiftUI \n",
      "Certifications \n",
      " \n",
      "                AWS Certified Solutions Architect, Pega Certified Senior System Architect \n",
      " \n",
      "WORK EXPERIENCE \n",
      "Software Engineer, Walmart                                                                                                                                                          Oct 2024 – present \n",
      "•\n",
      "----------------------------------------------------------------------------------------------------\n",
      "Document 2:\n",
      "\n",
      "• \n",
      "Revamped the architecture of an Equity and Debt investment processing application for World Bank Group, improving case \n",
      "processing lifecycle and disbursement time by 30% through advanced system design. \n",
      "• \n",
      "Designed and implemented REST APIs for Java and .NET applications, integrating core business logic and configuring SLAs and \n",
      "routings to optimize workflow efficiency. \n",
      "• \n",
      "Utilized Splunk and Tracer for troubleshooting and resolving production issues, ensuring zero downtime and delivering timely \n",
      "fixes with minimal impact on end-users. \n",
      "• \n",
      "Provided L2 support for Pegasystems, diagnosing and resolving infrastructure and product-level issues to maintain system \n",
      "integrity and enhance user experience. \n",
      "• \n",
      "Collaborated with cross-functional teams using JIRA in an Agile environment, contributing to SDLC phases and applying best \n",
      "design patterns to ensure timely and high-quality feature delivery. \n",
      " \n",
      "EDUCATION\n",
      "----------------------------------------------------------------------------------------------------\n",
      "Document 3:\n",
      "\n",
      "• \n",
      "Contributed to the development of a digital knowledge hub, building a centralized platform for community-driven education, \n",
      "career advancement, and knowledge sharing. \n",
      "• \n",
      "Developed backend REST APIs using Node.js, integrating Redis for session management and MySQL for data persistence with \n",
      "Sequelize ORM to ensure scalable and efficient data handling. \n",
      " \n",
      "Lead Software Engineer, Northeastern University                                                                                                                 May 2023 – May 2024 \n",
      "• \n",
      "Led and managed a team of 50+ developers in building the Open-source NU Bitcoin Blockchain Explorer, driving the project's \n",
      "overall development and success. \n",
      "• \n",
      "Contributed to the Grafbase API Gateway by integrating BitQuery GraphQL API, CoinAPI, and CryptoAPI REST API, adhering to \n",
      "OpenAPI specifications to ensure seamless data flow. \n",
      "•\n",
      "\n",
      "Results for query 2:\n",
      "Document 1:\n",
      "\n",
      "• \n",
      "Architected and engineered downstream RESTful APIs with Java Spring Boot, enabling seamless integration between insurance \n",
      "plans, field agents, and the Pega system, while integrating Kafka for real-time data streaming. \n",
      "• \n",
      "Developed a custom Java security event logging solution using Log4J, safeguarding customer PHI/PII and reducing data breach \n",
      "risks by 85%, ensuring compliance with industry security standards. \n",
      "• \n",
      "Led the application upgrade project during COVID-19, optimizing case management processes and integrating Adobe Sign and \n",
      "SMS APIs, boosting operational resilience and ensuring uninterrupted business continuity. \n",
      " \n",
      "Programmer Analyst, Cognizant                                                                                                                                                  Jun 2019 - Jul 2021 \n",
      "• \n",
      "Revamped the architecture of an Equity and Debt investment processing application for World Bank Group, improving case\n",
      "----------------------------------------------------------------------------------------------------\n",
      "Document 2:\n",
      "\n",
      "design patterns to ensure timely and high-quality feature delivery. \n",
      " \n",
      "EDUCATION \n",
      "MS in Information Systems, Northeastern University                                                                                                                         GPA: 3.8/4.0 \n",
      " \n",
      "Achievements: Winner at Harvard Blockchain Conference (HBC ’23), ETH Boston ‘23, Columbia Blockchain Hackathon (LionHack ‘23) \n",
      "Coursework: Application Engineering and Development, Data Structures and Algorithms, Network Structures and Cloud Computing, \n",
      "Web Design and UX Engineering, iOS Mobile App Development, Engineering of Advanced Cryptocurrency Systems\n",
      "----------------------------------------------------------------------------------------------------\n",
      "Document 3:\n",
      "\n",
      "• \n",
      "Revamped the architecture of an Equity and Debt investment processing application for World Bank Group, improving case \n",
      "processing lifecycle and disbursement time by 30% through advanced system design. \n",
      "• \n",
      "Designed and implemented REST APIs for Java and .NET applications, integrating core business logic and configuring SLAs and \n",
      "routings to optimize workflow efficiency. \n",
      "• \n",
      "Utilized Splunk and Tracer for troubleshooting and resolving production issues, ensuring zero downtime and delivering timely \n",
      "fixes with minimal impact on end-users. \n",
      "• \n",
      "Provided L2 support for Pegasystems, diagnosing and resolving infrastructure and product-level issues to maintain system \n",
      "integrity and enhance user experience. \n",
      "• \n",
      "Collaborated with cross-functional teams using JIRA in an Agile environment, contributing to SDLC phases and applying best \n",
      "design patterns to ensure timely and high-quality feature delivery. \n",
      " \n",
      "EDUCATION\n"
     ]
    }
   ],
   "source": [
    "from langchain.embeddings import OllamaEmbeddings\n",
    "from langchain_chroma import Chroma\n",
    "import chromadb\n",
    "from langchain_cohere import CohereRerank\n",
    "from langchain.retrievers.contextual_compression import ContextualCompressionRetriever\n",
    "import os\n",
    "import cohere\n",
    "\n",
    "cohere_api_key = os.getenv(\"COHERE_API_KEY\")\n",
    "cohere_client = cohere.ClientV2(cohere_api_key)\n",
    "\n",
    "cohere_reranker = CohereRerank(client=cohere_client, model=\"rerank-english-v3.0\", top_n=3)\n",
    "\n",
    "compression_retriever = ContextualCompressionRetriever(\n",
    "    base_compressor=cohere_reranker,\n",
    "    base_retriever=retriever\n",
    ")\n",
    "\n",
    "# Example queries\n",
    "query_1 = \"who does the document discuss about?\"\n",
    "query_2 = \"what are his achievements?\"\n",
    "\n",
    "# Retrieve and rerank documents\n",
    "reranked_docs_1 = compression_retriever.invoke(query_1)\n",
    "reranked_docs_2 = compression_retriever.invoke(query_2)\n",
    "\n",
    "# Pretty print the results\n",
    "print(\"Results for query 1:\")\n",
    "pretty_print(reranked_docs_1)\n",
    "\n",
    "print(\"\\nResults for query 2:\")\n",
    "pretty_print(reranked_docs_2)"
   ]
  },
  {
   "cell_type": "code",
   "execution_count": 16,
   "id": "50321054-4003-471e-a7af-8a0613aa52a3",
   "metadata": {},
   "outputs": [],
   "source": [
    "from langchain.chains import RetrievalQA\n",
    "from langchain_openai import ChatOpenAI\n",
    "\n",
    "llm = ChatOpenAI(model=\"gpt-4-0613\", temperature=0.5, max_tokens=3000)\n",
    "qa_chain = RetrievalQA.from_chain_type(llm, retriever=compression_retriever)"
   ]
  },
  {
   "cell_type": "code",
   "execution_count": 17,
   "id": "64f4ca8b-17b9-4f7b-91c4-6d8f68d083b4",
   "metadata": {},
   "outputs": [],
   "source": [
    "user_query_1 = \"who does the document discuss about?\"\n",
    "user_query_2 = \"what are his achievements?\"\n",
    "user_query_3 = \"what certifications does he have?\"\n",
    "user_query_4 = \"what are his skills?\"\n",
    "user_query_5 = \"Does he have any experience working with AI/ML or Blockchain?\"\n",
    "user_query_6 = \"what are his qualifications?\"\n",
    "user_query_7 = \"what are his experiences?\"\n",
    "\n",
    "user_queries = [user_query_3, user_query_4, user_query_5, user_query_6, user_query_7]"
   ]
  },
  {
   "cell_type": "code",
   "execution_count": 18,
   "id": "35e9891c-ad29-47d0-a469-14ad7764499b",
   "metadata": {},
   "outputs": [
    {
     "name": "stdout",
     "output_type": "stream",
     "text": [
      "Question: what certifications does he have?\n",
      "Answer: Saimahith Chigurupati has two certifications.\n",
      "\n",
      "Key Points: \n",
      "- Point 1: He is an AWS Certified Solutions Architect.\n",
      "- Point 2: He is a Pega Certified Senior System Architect.\n",
      "- Point 3: These certifications indicate his expertise in cloud solutions and system architecture.\n",
      "\n",
      "-----------------------------------------------------------------------------------------------------------------\n",
      "Question: what are his skills?\n",
      "Answer: Saimahith Chigurupati has a wide range of skills in software engineering and related fields. \n",
      "\n",
      "Key Points: \n",
      "- Point 1: He is proficient in several programming languages including Python, Java, C, and JavaScript.\n",
      "- Point 2: He has expertise in web technologies such as Spring Boot, FastAPI, Node.js, React.js, Next.js, Tailwind, REST API, GraphQL, and Django REST.\n",
      "- Point 3: He also has skills in DevOps and Cloud technologies like AWS, GCP, Linux, Git, Docker, Kubernetes, Jenkins, CI/CD, Terraform, Packer, and Apache Kafka. He is certified as an AWS Certified Solutions Architect and Pega Certified Senior System Architect.\n",
      "\n",
      "-----------------------------------------------------------------------------------------------------------------\n",
      "Question: Does he have any experience working with AI/ML or Blockchain?\n",
      "Answer: Yes, the individual has experience working with Blockchain.\n",
      "\n",
      "Key Points: \n",
      "- Point 1: The individual has won at various Blockchain conferences and hackathons, including Harvard Blockchain Conference (HBC ’23), ETH Boston ‘23, and Columbia Blockchain Hackathon (LionHack ‘23).\n",
      "- Point 2: The individual has led a team of developers in building the Open-source NU Bitcoin Blockchain Explorer while working as a Lead Software Engineer at Northeastern University.\n",
      "- Point 3: However, there is no mention of any experience working with AI/ML in the provided information.\n",
      "\n",
      "-----------------------------------------------------------------------------------------------------------------\n",
      "Question: what are his qualifications?\n",
      "Answer: Saimahith Chigurupati is a highly qualified Software Engineer with over 5 years of experience in designing scalable systems and delivering innovative solutions. \n",
      "\n",
      "Key Points: \n",
      "- Point 1: Saimahith is proficient in various programming languages such as Python, Java, C, and JavaScript. He also has expertise in web technologies like Spring Boot, FastAPI, Node.js, React.js, and others.\n",
      "- Point 2: He has significant experience with DevOps and Cloud technologies, including AWS, GCP, Linux, Git, Docker, Kubernetes, and more. He's also an AWS Certified Solutions Architect and a Pega Certified Senior System Architect.\n",
      "- Point 3: Saimahith has worked as a Software Engineer at Walmart and led a team of over 50 developers as a Lead Software Engineer at Northeastern University. He has contributed to various projects in these roles, showcasing his practical application of his skills and qualifications.\n",
      "\n",
      "-----------------------------------------------------------------------------------------------------------------\n",
      "Question: what are his experiences?\n",
      "Answer: Saimahith Chigurupati has extensive experience as a Software Engineer, with a focus on designing scalable systems and delivering innovative solutions. \n",
      "\n",
      "Key Points: \n",
      "- Point 1: At Walmart, he revamped the architecture of an Equity and Debt investment processing application for the World Bank Group, improving case processing lifecycle and disbursement time by 30%. He also worked on REST APIs for Java and .NET applications, and provided L2 support for Pegasystems.\n",
      "- Point 2: He has experience in troubleshooting and resolving production issues using tools like Splunk and Tracer, ensuring zero downtime and minimal impact on end-users.\n",
      "- Point 3: During his time at Cognizant as a Programmer Analyst, he worked on similar projects, including revamping the architecture of an application for the World Bank Group. He also has experience in working in an Agile environment, contributing to various phases of the Software Development Life Cycle (SDLC).\n",
      "\n",
      "-----------------------------------------------------------------------------------------------------------------\n"
     ]
    }
   ],
   "source": [
    "for user_query in user_queries:\n",
    "  prompt = (\n",
    "      \"You are an expert assistant with a strong grasp of the subject matter. \"\n",
    "      \"Please answer the following question succinctly, highlighting the key points. \"\n",
    "      f\"Format your response as follows: \\n\\n\"\n",
    "      f\" [Your answer herel\\n\"\n",
    "      f\"Key Points: \\n\"\n",
    "      f\"- Point 1: [Key insight 1]\\n\"\n",
    "      f\"- Point 2: [Key insight 2]\\n\"\n",
    "      f\"- Point 3: [Key insight 3]\\n\\n\"\n",
    "      f\"Ensure your response is refevant and avoid unnecessary elaboration. \"\n",
    "      f\"Answer the following question: '{(user_query)}'\"\n",
    "    )\n",
    "  response = qa_chain.invoke(prompt)\n",
    "  print(f\"Question: {user_query}\\nAnswer: {response['result']}\\n\")\n",
    "  print(\"-----------------------------------------------------------------------------------------------------------------\")\n",
    "\n",
    "# response = qa_chain.invoke(prompt)\n",
    "# print(response['result'])"
   ]
  },
  {
   "cell_type": "code",
   "execution_count": null,
   "id": "a39d62cd-eb75-4662-ba6a-35abebcc744c",
   "metadata": {},
   "outputs": [],
   "source": []
  }
 ],
 "metadata": {
  "kernelspec": {
   "display_name": "Python 3 (ipykernel)",
   "language": "python",
   "name": "python3"
  },
  "language_info": {
   "codemirror_mode": {
    "name": "ipython",
    "version": 3
   },
   "file_extension": ".py",
   "mimetype": "text/x-python",
   "name": "python",
   "nbconvert_exporter": "python",
   "pygments_lexer": "ipython3",
   "version": "3.12.7"
  }
 },
 "nbformat": 4,
 "nbformat_minor": 5
}
