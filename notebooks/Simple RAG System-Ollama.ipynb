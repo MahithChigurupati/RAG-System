{
 "cells": [
  {
   "cell_type": "code",
   "execution_count": 1,
   "id": "68e38f45-6ab2-41db-9bae-8c316796cdd3",
   "metadata": {},
   "outputs": [
    {
     "name": "stdout",
     "output_type": "stream",
     "text": [
      "Hello World!\n"
     ]
    }
   ],
   "source": [
    "print(\"Hello World!\")"
   ]
  },
  {
   "cell_type": "code",
   "execution_count": 2,
   "id": "1fb9f54c-ca79-469f-a43e-f13efa44722e",
   "metadata": {},
   "outputs": [
    {
     "name": "stdout",
     "output_type": "stream",
     "text": [
      "API Key Loaded Successfully\n"
     ]
    }
   ],
   "source": [
    "import os\n",
    "from dotenv import load_dotenv\n",
    "\n",
    "# Load environment variables from .env file\n",
    "load_dotenv()\n",
    "\n",
    "# Get the API key\n",
    "api_key = os.getenv(\"OPENAI_API_KEY\")\n",
    "\n",
    "# Set it as an environment variable (if needed)\n",
    "os.environ[\"OPENAI_API_KEY\"] = api_key\n",
    "\n",
    "print(\"API Key Loaded Successfully\" if api_key else \"API Key Not Found\")\n"
   ]
  },
  {
   "cell_type": "code",
   "execution_count": 3,
   "id": "7d934145-6c52-4725-8b01-a8c0e8905ad6",
   "metadata": {},
   "outputs": [
    {
     "name": "stdout",
     "output_type": "stream",
     "text": [
      "Pdf_data:  Saimahith Chigurupati \n",
      "Boston, MA | 857-693-9706 | mahithchigurupati@gmail.com | LinkedIn | GitHub \n",
      "Software Engineer with 5+ Years of Expertise in Designing Scalable Systems and Delivering Innovative Solutions  \n",
      "SKILLS \n",
      "Programming Languages  \n",
      "Python, Java, C, JavaScript \n",
      "Web Technologies \n",
      " \n",
      "Spring Boot, FastAPI, Node.js, React.js, Next.js, Tailwind, REST API, GraphQL, Django REST \n",
      "DevOps and Cloud \n",
      " \n",
      "AWS, GCP, Linux, Git, Docker, Kubernetes, Jenkins, CI/CD, Terraform, Packer, Apache Kafka \n",
      "Dat\n"
     ]
    }
   ],
   "source": [
    "import fitz\n",
    "import glob\n",
    "\n",
    "def load_all_pdfs_in_directory(directory=\"./content/\"):\n",
    "  combined_text = \"\"\n",
    "  pdf_paths = glob.glob(f\"{directory}/*.pdf\")\n",
    "\n",
    "  for file_path in pdf_paths:\n",
    "    with fitz.open(file_path) as pdf:\n",
    "      for page in pdf:\n",
    "        combined_text += page.get_text()\n",
    "\n",
    "  return combined_text\n",
    "\n",
    "pdf_data = load_all_pdfs_in_directory()\n",
    "print(\"Pdf_data: \", pdf_data[:500])"
   ]
  },
  {
   "cell_type": "code",
   "execution_count": 4,
   "id": "4d20ec44-aa0f-427c-8628-4ce6dc1e58e4",
   "metadata": {},
   "outputs": [
    {
     "data": {
      "text/plain": [
       "5577"
      ]
     },
     "execution_count": 4,
     "metadata": {},
     "output_type": "execute_result"
    }
   ],
   "source": [
    "len(pdf_data)"
   ]
  },
  {
   "cell_type": "code",
   "execution_count": 5,
   "id": "3a0fbd33-9d64-4076-b5d5-ebbee28ce9e9",
   "metadata": {},
   "outputs": [
    {
     "name": "stdout",
     "output_type": "stream",
     "text": [
      "Number of documents:  7\n"
     ]
    }
   ],
   "source": [
    "from langchain.text_splitter import RecursiveCharacterTextSplitter\n",
    "\n",
    "text_splitter = RecursiveCharacterTextSplitter(\n",
    "    chunk_size=1000,\n",
    "    chunk_overlap=200\n",
    ")\n",
    "\n",
    "documents = text_splitter.split_text(pdf_data)\n",
    "print(\"Number of documents: \", len(documents))\n"
   ]
  },
  {
   "cell_type": "code",
   "execution_count": 6,
   "id": "1fefec4b-53e4-40c0-94b9-c5aaec6ae387",
   "metadata": {},
   "outputs": [
    {
     "data": {
      "text/plain": [
       "'Saimahith Chigurupati \\nBoston, MA | 857-693-9706 | mahithchigurupati@gmail.com | LinkedIn | GitHub \\nSoftware Engineer with 5+ Years of Expertise in Designing Scalable Systems and Delivering Innovative Solutions  \\nSKILLS \\nProgramming Languages  \\nPython, Java, C, JavaScript \\nWeb Technologies \\n \\nSpring Boot, FastAPI, Node.js, React.js, Next.js, Tailwind, REST API, GraphQL, Django REST \\nDevOps and Cloud \\n \\nAWS, GCP, Linux, Git, Docker, Kubernetes, Jenkins, CI/CD, Terraform, Packer, Apache Kafka \\nDatabases & Tools \\n \\nMySQL, PostgreSQL, NoSQL, MongoDB, Redis, Azure SQL, Hibernate, RabbitMQ, SwiftUI \\nCertifications \\n \\n                AWS Certified Solutions Architect, Pega Certified Senior System Architect \\n \\nWORK EXPERIENCE \\nSoftware Engineer, Walmart                                                                                                                                                          Oct 2024 – present \\n•'"
      ]
     },
     "execution_count": 6,
     "metadata": {},
     "output_type": "execute_result"
    }
   ],
   "source": [
    "documents[0]"
   ]
  },
  {
   "cell_type": "code",
   "execution_count": 7,
   "id": "8e0a676a-8a71-4e9b-b892-3369097f4ec7",
   "metadata": {},
   "outputs": [
    {
     "data": {
      "text/plain": [
       "'• \\nCollaborating with the SRE team to develop automation tools, improving uptime for cloud services powering Walmart \\napplications using Java, Spring Boot, Azure SQL, Python, and FastAPI. \\n• \\nContributing to Business Continuity and Disaster Recovery (BCDR) initiatives, enhancing the reliability of Walmart’s applications \\nduring high-traffic events like thanksgiving sales, directly impacting major revenue generation. \\n• \\nDesigning and developing backend applications to enhance security and compliance of applications across the organization, \\nensuring alignment with security best practices and regulatory standards. \\n \\nSoftware Engineer, Keelworks                                                                                                                                                       Jul 2024 – Oct 2024 \\n• \\nContributed to the development of a digital knowledge hub, building a centralized platform for community-driven education, \\ncareer advancement, and knowledge sharing. \\n•'"
      ]
     },
     "execution_count": 7,
     "metadata": {},
     "output_type": "execute_result"
    }
   ],
   "source": [
    "documents[1]"
   ]
  },
  {
   "cell_type": "code",
   "execution_count": 8,
   "id": "6b729735-3f1d-4a15-ae28-e09ac36f1557",
   "metadata": {},
   "outputs": [],
   "source": [
    "from langchain_ollama import OllamaEmbeddings\n",
    "\n",
    "embeddings = OllamaEmbeddings(model=\"llama3.2\")\n",
    "\n",
    "embedded_documents = embeddings.embed_documents(documents)"
   ]
  },
  {
   "cell_type": "code",
   "execution_count": 9,
   "id": "e7f4fcfd-7dc7-45b1-a8b8-fdc0c4d86b9f",
   "metadata": {
    "scrolled": true
   },
   "outputs": [
    {
     "name": "stdout",
     "output_type": "stream",
     "text": [
      "Embedding for the first document\n",
      "Component 1: -0.01651998\n",
      "Component 2: 0.0035332777\n",
      "Component 3: -0.0048407987\n",
      "Component 4: -0.028871365\n",
      "Component 5: 0.0041457387\n",
      "Component 6: -0.0028303354\n"
     ]
    }
   ],
   "source": [
    "print(\"Embedding for the first document\")\n",
    "for i, value in enumerate(embedded_documents[0]):\n",
    "  print(f\"Component {i+1}: {value}\")\n",
    "  if i >= 5:\n",
    "    break"
   ]
  },
  {
   "cell_type": "code",
   "execution_count": 10,
   "id": "9bc351b0-cf64-4ace-a2b1-338cf05939de",
   "metadata": {},
   "outputs": [],
   "source": [
    "from langchain.vectorstores import FAISS\n",
    "\n",
    "faiss_index = FAISS.from_texts(texts=documents, embedding=embeddings)\n",
    "faiss_index.save_local(\"faiss_index\")"
   ]
  },
  {
   "cell_type": "code",
   "execution_count": 11,
   "id": "2dd34ab6-53ca-4235-a2ff-a564d1e8365e",
   "metadata": {},
   "outputs": [
    {
     "name": "stdout",
     "output_type": "stream",
     "text": [
      "Number of documents indexed: 7\n",
      "Sample vector from first document [-0.01652064  0.00353308 -0.00484387 ...  0.00915766  0.01250717\n",
      " -0.01615427]\n"
     ]
    }
   ],
   "source": [
    "print(f\"Number of documents indexed: {len(documents)}\")\n",
    "print(\"Sample vector from first document\", faiss_index.index.reconstruct(0))"
   ]
  },
  {
   "cell_type": "code",
   "execution_count": 12,
   "id": "2d9ff269-aff9-4afd-aaef-34c8bc054cb1",
   "metadata": {},
   "outputs": [
    {
     "name": "stdout",
     "output_type": "stream",
     "text": [
      "Index directory exists: True\n",
      "Files in index directory: ['index.faiss', 'index.pkl']\n"
     ]
    }
   ],
   "source": [
    "import os\n",
    "\n",
    "index_path = \"./faiss_index\"\n",
    "print(\"Index directory exists:\", os.path.exists(index_path))\n",
    "print(\"Files in index directory:\", os.listdir(index_path) if os.path.exists(index_path) else \"Directory not found\")\n"
   ]
  },
  {
   "cell_type": "code",
   "execution_count": 13,
   "id": "61557028-a54c-4915-baea-b3934e10165c",
   "metadata": {},
   "outputs": [
    {
     "name": "stdout",
     "output_type": "stream",
     "text": [
      "vectorstore loaded successfully\n",
      "Number of vectors in vectorstore: 7\n",
      "Dimensionlity of vectors: 3072\n"
     ]
    }
   ],
   "source": [
    "vectorstore = FAISS.load_local(\"faiss_index\", embeddings, allow_dangerous_deserialization=True)\n",
    "\n",
    "print(\"vectorstore loaded successfully\")\n",
    "print(f\"Number of vectors in vectorstore: {vectorstore.index.ntotal}\")\n",
    "print(f\"Dimensionlity of vectors: {vectorstore.index.d}\")"
   ]
  },
  {
   "cell_type": "code",
   "execution_count": 14,
   "id": "2b52e4da-9102-4d47-b8b2-c954ff9738a5",
   "metadata": {},
   "outputs": [],
   "source": [
    "retriever = vectorstore.as_retriever(search_type=\"similarity\", search_kwargs={\"k\": 6})"
   ]
  },
  {
   "cell_type": "code",
   "execution_count": 15,
   "id": "f289554b-22dd-4ffc-8e8b-baf9ff825d13",
   "metadata": {},
   "outputs": [],
   "source": [
    "def pretty_print(docs):\n",
    "  print(\n",
    "      f\"\\n{'-' * 100}\\n\".join(\n",
    "          [f\"Document {i+1}:\\n\\n\"+ d.page_content for i,d in enumerate(docs)]\n",
    "      )\n",
    "  )"
   ]
  },
  {
   "cell_type": "code",
   "execution_count": 16,
   "id": "34532ed8-7d94-40ac-8ed1-fbbb3c0558af",
   "metadata": {},
   "outputs": [],
   "source": [
    "vectorstore = FAISS.load_local(\"./faiss_index\", embeddings, allow_dangerous_deserialization=True)\n",
    "retriever = vectorstore.as_retriever(search_type=\"similarity\", search_kwargs={\"k\": 6})"
   ]
  },
  {
   "cell_type": "code",
   "execution_count": 17,
   "id": "fabccb8e-94d4-4863-a442-bdb9a7b6611a",
   "metadata": {},
   "outputs": [
    {
     "name": "stdout",
     "output_type": "stream",
     "text": [
      "Document 1:\n",
      "\n",
      "design patterns to ensure timely and high-quality feature delivery. \n",
      " \n",
      "EDUCATION \n",
      "MS in Information Systems, Northeastern University                                                                                                                         GPA: 3.8/4.0 \n",
      " \n",
      "Achievements: Winner at Harvard Blockchain Conference (HBC ’23), ETH Boston ‘23, Columbia Blockchain Hackathon (LionHack ‘23) \n",
      "Coursework: Application Engineering and Development, Data Structures and Algorithms, Network Structures and Cloud Computing, \n",
      "Web Design and UX Engineering, iOS Mobile App Development, Engineering of Advanced Cryptocurrency Systems\n",
      "----------------------------------------------------------------------------------------------------\n",
      "Document 2:\n",
      "\n",
      "• \n",
      "Contributed to the development of a digital knowledge hub, building a centralized platform for community-driven education, \n",
      "career advancement, and knowledge sharing. \n",
      "• \n",
      "Developed backend REST APIs using Node.js, integrating Redis for session management and MySQL for data persistence with \n",
      "Sequelize ORM to ensure scalable and efficient data handling. \n",
      " \n",
      "Lead Software Engineer, Northeastern University                                                                                                                 May 2023 – May 2024 \n",
      "• \n",
      "Led and managed a team of 50+ developers in building the Open-source NU Bitcoin Blockchain Explorer, driving the project's \n",
      "overall development and success. \n",
      "• \n",
      "Contributed to the Grafbase API Gateway by integrating BitQuery GraphQL API, CoinAPI, and CryptoAPI REST API, adhering to \n",
      "OpenAPI specifications to ensure seamless data flow. \n",
      "•\n",
      "----------------------------------------------------------------------------------------------------\n",
      "Document 3:\n",
      "\n",
      "• \n",
      "Collaborating with the SRE team to develop automation tools, improving uptime for cloud services powering Walmart \n",
      "applications using Java, Spring Boot, Azure SQL, Python, and FastAPI. \n",
      "• \n",
      "Contributing to Business Continuity and Disaster Recovery (BCDR) initiatives, enhancing the reliability of Walmart’s applications \n",
      "during high-traffic events like thanksgiving sales, directly impacting major revenue generation. \n",
      "• \n",
      "Designing and developing backend applications to enhance security and compliance of applications across the organization, \n",
      "ensuring alignment with security best practices and regulatory standards. \n",
      " \n",
      "Software Engineer, Keelworks                                                                                                                                                       Jul 2024 – Oct 2024 \n",
      "• \n",
      "Contributed to the development of a digital knowledge hub, building a centralized platform for community-driven education, \n",
      "career advancement, and knowledge sharing. \n",
      "•\n",
      "----------------------------------------------------------------------------------------------------\n",
      "Document 4:\n",
      "\n",
      "• \n",
      "Architected and engineered downstream RESTful APIs with Java Spring Boot, enabling seamless integration between insurance \n",
      "plans, field agents, and the Pega system, while integrating Kafka for real-time data streaming. \n",
      "• \n",
      "Developed a custom Java security event logging solution using Log4J, safeguarding customer PHI/PII and reducing data breach \n",
      "risks by 85%, ensuring compliance with industry security standards. \n",
      "• \n",
      "Led the application upgrade project during COVID-19, optimizing case management processes and integrating Adobe Sign and \n",
      "SMS APIs, boosting operational resilience and ensuring uninterrupted business continuity. \n",
      " \n",
      "Programmer Analyst, Cognizant                                                                                                                                                  Jun 2019 - Jul 2021 \n",
      "• \n",
      "Revamped the architecture of an Equity and Debt investment processing application for World Bank Group, improving case\n",
      "----------------------------------------------------------------------------------------------------\n",
      "Document 5:\n",
      "\n",
      "• \n",
      "Contributed to the Grafbase API Gateway by integrating BitQuery GraphQL API, CoinAPI, and CryptoAPI REST API, adhering to \n",
      "OpenAPI specifications to ensure seamless data flow. \n",
      "• \n",
      "Developed a Next.js-based Bitcoin explorer application, applying Test-Driven Development (TDD) using Playwright, and \n",
      "implemented CI/CD pipelines via Git Workflows to automate and streamline the development lifecycle. \n",
      " \n",
      "Software Engineer, Optum                                                                                                                                                        Aug 2021 – Aug 2022 \n",
      "• \n",
      "Designed and developed a health insurance enrollment application for web and mobile platforms, utilizing Java J2EE, JavaScript, \n",
      "Pega PRPC, and PostgreSQL, driving significant revenue growth for UnitedHealth Group. \n",
      "• \n",
      "Architected and engineered downstream RESTful APIs with Java Spring Boot, enabling seamless integration between insurance\n",
      "----------------------------------------------------------------------------------------------------\n",
      "Document 6:\n",
      "\n",
      "Saimahith Chigurupati \n",
      "Boston, MA | 857-693-9706 | mahithchigurupati@gmail.com | LinkedIn | GitHub \n",
      "Software Engineer with 5+ Years of Expertise in Designing Scalable Systems and Delivering Innovative Solutions  \n",
      "SKILLS \n",
      "Programming Languages  \n",
      "Python, Java, C, JavaScript \n",
      "Web Technologies \n",
      " \n",
      "Spring Boot, FastAPI, Node.js, React.js, Next.js, Tailwind, REST API, GraphQL, Django REST \n",
      "DevOps and Cloud \n",
      " \n",
      "AWS, GCP, Linux, Git, Docker, Kubernetes, Jenkins, CI/CD, Terraform, Packer, Apache Kafka \n",
      "Databases & Tools \n",
      " \n",
      "MySQL, PostgreSQL, NoSQL, MongoDB, Redis, Azure SQL, Hibernate, RabbitMQ, SwiftUI \n",
      "Certifications \n",
      " \n",
      "                AWS Certified Solutions Architect, Pega Certified Senior System Architect \n",
      " \n",
      "WORK EXPERIENCE \n",
      "Software Engineer, Walmart                                                                                                                                                          Oct 2024 – present \n",
      "•\n",
      "Document 1:\n",
      "\n",
      "design patterns to ensure timely and high-quality feature delivery. \n",
      " \n",
      "EDUCATION \n",
      "MS in Information Systems, Northeastern University                                                                                                                         GPA: 3.8/4.0 \n",
      " \n",
      "Achievements: Winner at Harvard Blockchain Conference (HBC ’23), ETH Boston ‘23, Columbia Blockchain Hackathon (LionHack ‘23) \n",
      "Coursework: Application Engineering and Development, Data Structures and Algorithms, Network Structures and Cloud Computing, \n",
      "Web Design and UX Engineering, iOS Mobile App Development, Engineering of Advanced Cryptocurrency Systems\n",
      "----------------------------------------------------------------------------------------------------\n",
      "Document 2:\n",
      "\n",
      "• \n",
      "Contributed to the development of a digital knowledge hub, building a centralized platform for community-driven education, \n",
      "career advancement, and knowledge sharing. \n",
      "• \n",
      "Developed backend REST APIs using Node.js, integrating Redis for session management and MySQL for data persistence with \n",
      "Sequelize ORM to ensure scalable and efficient data handling. \n",
      " \n",
      "Lead Software Engineer, Northeastern University                                                                                                                 May 2023 – May 2024 \n",
      "• \n",
      "Led and managed a team of 50+ developers in building the Open-source NU Bitcoin Blockchain Explorer, driving the project's \n",
      "overall development and success. \n",
      "• \n",
      "Contributed to the Grafbase API Gateway by integrating BitQuery GraphQL API, CoinAPI, and CryptoAPI REST API, adhering to \n",
      "OpenAPI specifications to ensure seamless data flow. \n",
      "•\n",
      "----------------------------------------------------------------------------------------------------\n",
      "Document 3:\n",
      "\n",
      "• \n",
      "Architected and engineered downstream RESTful APIs with Java Spring Boot, enabling seamless integration between insurance \n",
      "plans, field agents, and the Pega system, while integrating Kafka for real-time data streaming. \n",
      "• \n",
      "Developed a custom Java security event logging solution using Log4J, safeguarding customer PHI/PII and reducing data breach \n",
      "risks by 85%, ensuring compliance with industry security standards. \n",
      "• \n",
      "Led the application upgrade project during COVID-19, optimizing case management processes and integrating Adobe Sign and \n",
      "SMS APIs, boosting operational resilience and ensuring uninterrupted business continuity. \n",
      " \n",
      "Programmer Analyst, Cognizant                                                                                                                                                  Jun 2019 - Jul 2021 \n",
      "• \n",
      "Revamped the architecture of an Equity and Debt investment processing application for World Bank Group, improving case\n",
      "----------------------------------------------------------------------------------------------------\n",
      "Document 4:\n",
      "\n",
      "• \n",
      "Collaborating with the SRE team to develop automation tools, improving uptime for cloud services powering Walmart \n",
      "applications using Java, Spring Boot, Azure SQL, Python, and FastAPI. \n",
      "• \n",
      "Contributing to Business Continuity and Disaster Recovery (BCDR) initiatives, enhancing the reliability of Walmart’s applications \n",
      "during high-traffic events like thanksgiving sales, directly impacting major revenue generation. \n",
      "• \n",
      "Designing and developing backend applications to enhance security and compliance of applications across the organization, \n",
      "ensuring alignment with security best practices and regulatory standards. \n",
      " \n",
      "Software Engineer, Keelworks                                                                                                                                                       Jul 2024 – Oct 2024 \n",
      "• \n",
      "Contributed to the development of a digital knowledge hub, building a centralized platform for community-driven education, \n",
      "career advancement, and knowledge sharing. \n",
      "•\n",
      "----------------------------------------------------------------------------------------------------\n",
      "Document 5:\n",
      "\n",
      "• \n",
      "Contributed to the Grafbase API Gateway by integrating BitQuery GraphQL API, CoinAPI, and CryptoAPI REST API, adhering to \n",
      "OpenAPI specifications to ensure seamless data flow. \n",
      "• \n",
      "Developed a Next.js-based Bitcoin explorer application, applying Test-Driven Development (TDD) using Playwright, and \n",
      "implemented CI/CD pipelines via Git Workflows to automate and streamline the development lifecycle. \n",
      " \n",
      "Software Engineer, Optum                                                                                                                                                        Aug 2021 – Aug 2022 \n",
      "• \n",
      "Designed and developed a health insurance enrollment application for web and mobile platforms, utilizing Java J2EE, JavaScript, \n",
      "Pega PRPC, and PostgreSQL, driving significant revenue growth for UnitedHealth Group. \n",
      "• \n",
      "Architected and engineered downstream RESTful APIs with Java Spring Boot, enabling seamless integration between insurance\n",
      "----------------------------------------------------------------------------------------------------\n",
      "Document 6:\n",
      "\n",
      "Saimahith Chigurupati \n",
      "Boston, MA | 857-693-9706 | mahithchigurupati@gmail.com | LinkedIn | GitHub \n",
      "Software Engineer with 5+ Years of Expertise in Designing Scalable Systems and Delivering Innovative Solutions  \n",
      "SKILLS \n",
      "Programming Languages  \n",
      "Python, Java, C, JavaScript \n",
      "Web Technologies \n",
      " \n",
      "Spring Boot, FastAPI, Node.js, React.js, Next.js, Tailwind, REST API, GraphQL, Django REST \n",
      "DevOps and Cloud \n",
      " \n",
      "AWS, GCP, Linux, Git, Docker, Kubernetes, Jenkins, CI/CD, Terraform, Packer, Apache Kafka \n",
      "Databases & Tools \n",
      " \n",
      "MySQL, PostgreSQL, NoSQL, MongoDB, Redis, Azure SQL, Hibernate, RabbitMQ, SwiftUI \n",
      "Certifications \n",
      " \n",
      "                AWS Certified Solutions Architect, Pega Certified Senior System Architect \n",
      " \n",
      "WORK EXPERIENCE \n",
      "Software Engineer, Walmart                                                                                                                                                          Oct 2024 – present \n",
      "•\n"
     ]
    }
   ],
   "source": [
    "query_1 = \"who does the document discuss about?\"\n",
    "docs = retriever.invoke(query_1)\n",
    "pretty_print(docs)\n",
    "\n",
    "query_2 = \"what are his achievements?\"\n",
    "docs = retriever.invoke(query_2)\n",
    "pretty_print(docs)"
   ]
  },
  {
   "cell_type": "code",
   "execution_count": 18,
   "id": "47b4dd7c-f234-47c4-b549-7e1ab7410725",
   "metadata": {},
   "outputs": [
    {
     "name": "stdout",
     "output_type": "stream",
     "text": [
      "Document 1:\n",
      "\n",
      "Saimahith Chigurupati \n",
      "Boston, MA | 857-693-9706 | mahithchigurupati@gmail.com | LinkedIn | GitHub \n",
      "Software Engineer with 5+ Years of Expertise in Designing Scalable Systems and Delivering Innovative Solutions  \n",
      "SKILLS \n",
      "Programming Languages  \n",
      "Python, Java, C, JavaScript \n",
      "Web Technologies \n",
      " \n",
      "Spring Boot, FastAPI, Node.js, React.js, Next.js, Tailwind, REST API, GraphQL, Django REST \n",
      "DevOps and Cloud \n",
      " \n",
      "AWS, GCP, Linux, Git, Docker, Kubernetes, Jenkins, CI/CD, Terraform, Packer, Apache Kafka \n",
      "Databases & Tools \n",
      " \n",
      "MySQL, PostgreSQL, NoSQL, MongoDB, Redis, Azure SQL, Hibernate, RabbitMQ, SwiftUI \n",
      "Certifications \n",
      " \n",
      "                AWS Certified Solutions Architect, Pega Certified Senior System Architect \n",
      " \n",
      "WORK EXPERIENCE \n",
      "Software Engineer, Walmart                                                                                                                                                          Oct 2024 – present \n",
      "•\n",
      "----------------------------------------------------------------------------------------------------\n",
      "Document 2:\n",
      "\n",
      "• \n",
      "Contributed to the development of a digital knowledge hub, building a centralized platform for community-driven education, \n",
      "career advancement, and knowledge sharing. \n",
      "• \n",
      "Developed backend REST APIs using Node.js, integrating Redis for session management and MySQL for data persistence with \n",
      "Sequelize ORM to ensure scalable and efficient data handling. \n",
      " \n",
      "Lead Software Engineer, Northeastern University                                                                                                                 May 2023 – May 2024 \n",
      "• \n",
      "Led and managed a team of 50+ developers in building the Open-source NU Bitcoin Blockchain Explorer, driving the project's \n",
      "overall development and success. \n",
      "• \n",
      "Contributed to the Grafbase API Gateway by integrating BitQuery GraphQL API, CoinAPI, and CryptoAPI REST API, adhering to \n",
      "OpenAPI specifications to ensure seamless data flow. \n",
      "•\n",
      "----------------------------------------------------------------------------------------------------\n",
      "Document 3:\n",
      "\n",
      "• \n",
      "Collaborating with the SRE team to develop automation tools, improving uptime for cloud services powering Walmart \n",
      "applications using Java, Spring Boot, Azure SQL, Python, and FastAPI. \n",
      "• \n",
      "Contributing to Business Continuity and Disaster Recovery (BCDR) initiatives, enhancing the reliability of Walmart’s applications \n",
      "during high-traffic events like thanksgiving sales, directly impacting major revenue generation. \n",
      "• \n",
      "Designing and developing backend applications to enhance security and compliance of applications across the organization, \n",
      "ensuring alignment with security best practices and regulatory standards. \n",
      " \n",
      "Software Engineer, Keelworks                                                                                                                                                       Jul 2024 – Oct 2024 \n",
      "• \n",
      "Contributed to the development of a digital knowledge hub, building a centralized platform for community-driven education, \n",
      "career advancement, and knowledge sharing. \n",
      "•\n",
      "Document 1:\n",
      "\n",
      "• \n",
      "Architected and engineered downstream RESTful APIs with Java Spring Boot, enabling seamless integration between insurance \n",
      "plans, field agents, and the Pega system, while integrating Kafka for real-time data streaming. \n",
      "• \n",
      "Developed a custom Java security event logging solution using Log4J, safeguarding customer PHI/PII and reducing data breach \n",
      "risks by 85%, ensuring compliance with industry security standards. \n",
      "• \n",
      "Led the application upgrade project during COVID-19, optimizing case management processes and integrating Adobe Sign and \n",
      "SMS APIs, boosting operational resilience and ensuring uninterrupted business continuity. \n",
      " \n",
      "Programmer Analyst, Cognizant                                                                                                                                                  Jun 2019 - Jul 2021 \n",
      "• \n",
      "Revamped the architecture of an Equity and Debt investment processing application for World Bank Group, improving case\n",
      "----------------------------------------------------------------------------------------------------\n",
      "Document 2:\n",
      "\n",
      "design patterns to ensure timely and high-quality feature delivery. \n",
      " \n",
      "EDUCATION \n",
      "MS in Information Systems, Northeastern University                                                                                                                         GPA: 3.8/4.0 \n",
      " \n",
      "Achievements: Winner at Harvard Blockchain Conference (HBC ’23), ETH Boston ‘23, Columbia Blockchain Hackathon (LionHack ‘23) \n",
      "Coursework: Application Engineering and Development, Data Structures and Algorithms, Network Structures and Cloud Computing, \n",
      "Web Design and UX Engineering, iOS Mobile App Development, Engineering of Advanced Cryptocurrency Systems\n",
      "----------------------------------------------------------------------------------------------------\n",
      "Document 3:\n",
      "\n",
      "• \n",
      "Contributed to the development of a digital knowledge hub, building a centralized platform for community-driven education, \n",
      "career advancement, and knowledge sharing. \n",
      "• \n",
      "Developed backend REST APIs using Node.js, integrating Redis for session management and MySQL for data persistence with \n",
      "Sequelize ORM to ensure scalable and efficient data handling. \n",
      " \n",
      "Lead Software Engineer, Northeastern University                                                                                                                 May 2023 – May 2024 \n",
      "• \n",
      "Led and managed a team of 50+ developers in building the Open-source NU Bitcoin Blockchain Explorer, driving the project's \n",
      "overall development and success. \n",
      "• \n",
      "Contributed to the Grafbase API Gateway by integrating BitQuery GraphQL API, CoinAPI, and CryptoAPI REST API, adhering to \n",
      "OpenAPI specifications to ensure seamless data flow. \n",
      "•\n"
     ]
    }
   ],
   "source": [
    "from langchain.embeddings import OpenAIEmbeddings\n",
    "from langchain.vectorstores import FAISS\n",
    "from langchain_cohere import CohereRerank\n",
    "from langchain.retrievers.contextual_compression import ContextualCompressionRetriever\n",
    "import cohere\n",
    "\n",
    "cohere_api_key = os.getenv(\"COHERE_API_KEY\")\n",
    "cohere_client = cohere.ClientV2(cohere_api_key)\n",
    "\n",
    "cohere_reranker = CohereRerank(client=cohere_client, model=\"rerank-english-v3.0\", top_n=3)\n",
    "\n",
    "compression_retriever = ContextualCompressionRetriever(\n",
    "    base_compressor = cohere_reranker,\n",
    "    base_retriever = retriever\n",
    ")\n",
    "\n",
    "query_1 = \"who does the document discuss about?\"\n",
    "reranked_docs = compression_retriever.invoke(query_1)\n",
    "pretty_print(reranked_docs)\n",
    "\n",
    "query_2 = \"what are his achievements?\"\n",
    "reranked_docs = compression_retriever.invoke(query_2)\n",
    "pretty_print(reranked_docs)"
   ]
  },
  {
   "cell_type": "code",
   "execution_count": 19,
   "id": "50321054-4003-471e-a7af-8a0613aa52a3",
   "metadata": {},
   "outputs": [],
   "source": [
    "from langchain.chains import RetrievalQA\n",
    "from langchain_ollama import ChatOllama\n",
    "\n",
    "llm = ChatOllama(model=\"llama3.2\", temperature=0.5, max_tokens=3000)\n",
    "qa_chain = RetrievalQA.from_chain_type(llm, retriever=compression_retriever)"
   ]
  },
  {
   "cell_type": "code",
   "execution_count": 20,
   "id": "64f4ca8b-17b9-4f7b-91c4-6d8f68d083b4",
   "metadata": {},
   "outputs": [],
   "source": [
    "user_query_1 = \"who does the document discuss about?\"\n",
    "user_query_2 = \"what are his achievements?\"\n",
    "user_query_3 = \"what certifications does he have?\"\n",
    "user_query_4 = \"what are his skills?\"\n",
    "user_query_5 = \"Does he have any experience working with AI/ML or Blockchain?\"\n",
    "user_query_6 = \"what are his qualifications?\"\n",
    "user_query_7 = \"what are his experiences?\"\n",
    "\n",
    "user_queries = [user_query_3, user_query_4, user_query_5, user_query_6, user_query_7]"
   ]
  },
  {
   "cell_type": "code",
   "execution_count": 21,
   "id": "35e9891c-ad29-47d0-a469-14ad7764499b",
   "metadata": {},
   "outputs": [
    {
     "name": "stdout",
     "output_type": "stream",
     "text": [
      "Question: what certifications does he have?\n",
      "Answer: [He has two relevant certifications.]\n",
      "\n",
      "Key Points:\n",
      "- AWS Certified Solutions Architect\n",
      "- Pega Certified Senior System Architect\n",
      "\n",
      "-----------------------------------------------------------------------------------------------------------------\n",
      "Question: what are his skills?\n",
      "Answer: Saimahith Chigurupati's key skills include:\n",
      "\n",
      "* Programming Languages: Python, Java, C, JavaScript\n",
      "* Web Technologies:\n",
      "\t+ Front-end: React.js, Next.js, Tailwind\n",
      "\t+ Back-end: Spring Boot, FastAPI, Node.js, GraphQL, Django REST\n",
      "* DevOps and Cloud: AWS, GCP, Linux, Git, Docker, Kubernetes, Jenkins, CI/CD, Terraform, Packer, Apache Kafka\n",
      "* Databases & Tools: MySQL, PostgreSQL, NoSQL, MongoDB, Redis, Azure SQL, Hibernate, RabbitMQ\n",
      "\n",
      "Key Points:\n",
      "- Skilled in a range of programming languages and web technologies.\n",
      "- Experienced with DevOps tools and cloud platforms.\n",
      "- Proficient in various databases and tools.\n",
      "\n",
      "-----------------------------------------------------------------------------------------------------------------\n",
      "Question: Does he have any experience working with AI/ML or Blockchain?\n",
      "Answer: [Yes, Saimahith Chigurupati has relevant experience in both AI/ML and Blockchain.]\n",
      "\n",
      "Key Points:\n",
      "- Experience with Machine Learning: Not explicitly stated, but as a software engineer with expertise in designing scalable systems and delivering innovative solutions, he likely has exposure to ML concepts.\n",
      "- Blockchain Experience: Led the development of an open-source NU Bitcoin Blockchain Explorer, contributing to the integration of BitQuery GraphQL API, CoinAPI, and CryptoAPI REST API.\n",
      "\n",
      "-----------------------------------------------------------------------------------------------------------------\n",
      "Question: what are his qualifications?\n",
      "Answer: [His qualifications are as follows.]\n",
      "\n",
      "Key Points:\n",
      "- Certifications: AWS Certified Solutions Architect, Pega Certified Senior System Architect\n",
      "- Education: Not mentioned in the provided context\n",
      "- Work Experience: Led teams, designed scalable systems, and delivered innovative solutions for various clients.\n",
      "\n",
      "-----------------------------------------------------------------------------------------------------------------\n",
      "Question: what are his experiences?\n",
      "Answer: [Summary of Saimahith Chigurupati's Experiences]\n",
      "\n",
      "Key Points:\n",
      "- **Software Engineer at Walmart (Oct 2024 – present)**: Designed downstream RESTful APIs with Java Spring Boot, integrated Kafka for real-time data streaming, and implemented a custom security event logging solution using Log4J.\n",
      "- **Programmer Analyst at Cognizant (Jun 2019 - Jul 2021)**: Revamped an investment processing application's architecture, developed backend REST APIs with Node.js, and integrated Redis and MySQL for session management and data persistence.\n",
      "- **Lead Software Engineer at Northeastern University (May 2023 – May 2024)**: Led a team of developers in building the Open-source NU Bitcoin Blockchain Explorer, contributed to the Grafbase API Gateway by integrating multiple APIs, and ensured seamless data flow adhering to OpenAPI specifications.\n",
      "\n",
      "-----------------------------------------------------------------------------------------------------------------\n"
     ]
    }
   ],
   "source": [
    "for user_query in user_queries:\n",
    "  prompt = (\n",
    "      \"You are an expert assistant with a strong grasp of the subject matter. \"\n",
    "      \"Please answer the following question succinctly, highlighting the key points. \"\n",
    "      f\"Format your response as follows: \\n\\n\"\n",
    "      f\" [Your answer herel\\n\"\n",
    "      f\"Key Points: \\n\"\n",
    "      f\"- Point 1: [Key insight 1]\\n\"\n",
    "      f\"- Point 2: [Key insight 2]\\n\"\n",
    "      f\"- Point 3: [Key insight 3]\\n\\n\"\n",
    "      f\"Ensure your response is refevant and avoid unnecessary elaboration. \"\n",
    "      f\"Answer the following question: '{(user_query)}'\"\n",
    "    )\n",
    "  response = qa_chain.invoke(prompt)\n",
    "  print(f\"Question: {user_query}\\nAnswer: {response['result']}\\n\")\n",
    "  print(\"-----------------------------------------------------------------------------------------------------------------\")\n",
    "\n",
    "# response = qa_chain.invoke(prompt)\n",
    "# print(response['result'])"
   ]
  },
  {
   "cell_type": "code",
   "execution_count": null,
   "id": "a39d62cd-eb75-4662-ba6a-35abebcc744c",
   "metadata": {},
   "outputs": [],
   "source": []
  }
 ],
 "metadata": {
  "kernelspec": {
   "display_name": "Python 3 (ipykernel)",
   "language": "python",
   "name": "python3"
  },
  "language_info": {
   "codemirror_mode": {
    "name": "ipython",
    "version": 3
   },
   "file_extension": ".py",
   "mimetype": "text/x-python",
   "name": "python",
   "nbconvert_exporter": "python",
   "pygments_lexer": "ipython3",
   "version": "3.12.7"
  }
 },
 "nbformat": 4,
 "nbformat_minor": 5
}
